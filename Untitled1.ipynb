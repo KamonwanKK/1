{
 "cells": [
  {
   "cell_type": "code",
   "execution_count": 2,
   "id": "e63c33ea",
   "metadata": {},
   "outputs": [],
   "source": [
    "import numpy as np\n",
    "import pandas as pd\n",
    "import matplotlib.pyplot as plt\n",
    "import seaborn as sns\n",
    "import matplotlib.pyplot as plt"
   ]
  },
  {
   "cell_type": "code",
   "execution_count": 13,
   "id": "5c57ac85",
   "metadata": {
    "scrolled": true
   },
   "outputs": [
    {
     "ename": "NameError",
     "evalue": "name 'rent_channel' is not defined",
     "output_type": "error",
     "traceback": [
      "\u001b[1;31m---------------------------------------------------------------------------\u001b[0m",
      "\u001b[1;31mNameError\u001b[0m                                 Traceback (most recent call last)",
      "\u001b[1;32m~\\AppData\\Local\\Temp/ipykernel_13412/2355090416.py\u001b[0m in \u001b[0;36m<module>\u001b[1;34m\u001b[0m\n\u001b[0;32m      1\u001b[0m \u001b[0mdata\u001b[0m \u001b[1;33m=\u001b[0m \u001b[0mpd\u001b[0m\u001b[1;33m.\u001b[0m\u001b[0mread_csv\u001b[0m\u001b[1;33m(\u001b[0m\u001b[1;34m'https://raw.githubusercontent.com/ferdinjoe/DSA206/main/carrental%202019.csv'\u001b[0m\u001b[1;33m)\u001b[0m\u001b[1;33m\u001b[0m\u001b[1;33m\u001b[0m\u001b[0m\n\u001b[1;32m----> 2\u001b[1;33m \u001b[0msub1\u001b[0m \u001b[1;33m=\u001b[0m \u001b[0mdata\u001b[0m\u001b[1;33m[\u001b[0m\u001b[0mrent_channel\u001b[0m\u001b[1;33m[\u001b[0m\u001b[1;34m\"ios\"\u001b[0m\u001b[1;33m]\u001b[0m\u001b[1;33m]\u001b[0m\u001b[1;33m\u001b[0m\u001b[1;33m\u001b[0m\u001b[0m\n\u001b[0m\u001b[0;32m      3\u001b[0m \u001b[0mcount1\u001b[0m \u001b[1;33m=\u001b[0m \u001b[0msub1\u001b[0m\u001b[1;33m.\u001b[0m\u001b[0mcount\u001b[0m\u001b[1;33m(\u001b[0m\u001b[1;33m)\u001b[0m\u001b[1;33m\u001b[0m\u001b[1;33m\u001b[0m\u001b[0m\n\u001b[0;32m      4\u001b[0m \u001b[0mcount1\u001b[0m\u001b[1;33m\u001b[0m\u001b[1;33m\u001b[0m\u001b[0m\n",
      "\u001b[1;31mNameError\u001b[0m: name 'rent_channel' is not defined"
     ]
    }
   ],
   "source": [
    "data = pd.read_csv('https://raw.githubusercontent.com/ferdinjoe/DSA206/main/carrental%202019.csv')\n",
    "data"
   ]
  },
  {
   "cell_type": "code",
   "execution_count": 4,
   "id": "84c3e7ff",
   "metadata": {},
   "outputs": [],
   "source": [
    "#dowloard file data.to_csv('car.csv')"
   ]
  },
  {
   "cell_type": "code",
   "execution_count": 5,
   "id": "03e68e56",
   "metadata": {},
   "outputs": [
    {
     "data": {
      "text/plain": [
       "pandas.core.series.Series"
      ]
     },
     "execution_count": 5,
     "metadata": {},
     "output_type": "execute_result"
    }
   ],
   "source": [
    "#check data type and size\n",
    "data['order_id'].shape\n",
    "type(data['order_id'])"
   ]
  },
  {
   "cell_type": "code",
   "execution_count": 6,
   "id": "5fb15d8c",
   "metadata": {},
   "outputs": [
    {
     "data": {
      "text/html": [
       "<div>\n",
       "<style scoped>\n",
       "    .dataframe tbody tr th:only-of-type {\n",
       "        vertical-align: middle;\n",
       "    }\n",
       "\n",
       "    .dataframe tbody tr th {\n",
       "        vertical-align: top;\n",
       "    }\n",
       "\n",
       "    .dataframe thead th {\n",
       "        text-align: right;\n",
       "    }\n",
       "</style>\n",
       "<table border=\"1\" class=\"dataframe\">\n",
       "  <thead>\n",
       "    <tr style=\"text-align: right;\">\n",
       "      <th></th>\n",
       "      <th>rent_channel</th>\n",
       "    </tr>\n",
       "  </thead>\n",
       "  <tbody>\n",
       "    <tr>\n",
       "      <th>0</th>\n",
       "      <td>ios</td>\n",
       "    </tr>\n",
       "    <tr>\n",
       "      <th>1</th>\n",
       "      <td>web</td>\n",
       "    </tr>\n",
       "    <tr>\n",
       "      <th>2</th>\n",
       "      <td>web</td>\n",
       "    </tr>\n",
       "    <tr>\n",
       "      <th>3</th>\n",
       "      <td>ios</td>\n",
       "    </tr>\n",
       "    <tr>\n",
       "      <th>4</th>\n",
       "      <td>web</td>\n",
       "    </tr>\n",
       "    <tr>\n",
       "      <th>...</th>\n",
       "      <td>...</td>\n",
       "    </tr>\n",
       "    <tr>\n",
       "      <th>3199</th>\n",
       "      <td>web</td>\n",
       "    </tr>\n",
       "    <tr>\n",
       "      <th>3200</th>\n",
       "      <td>web</td>\n",
       "    </tr>\n",
       "    <tr>\n",
       "      <th>3201</th>\n",
       "      <td>web</td>\n",
       "    </tr>\n",
       "    <tr>\n",
       "      <th>3202</th>\n",
       "      <td>ios</td>\n",
       "    </tr>\n",
       "    <tr>\n",
       "      <th>3203</th>\n",
       "      <td>ios</td>\n",
       "    </tr>\n",
       "  </tbody>\n",
       "</table>\n",
       "<p>3204 rows × 1 columns</p>\n",
       "</div>"
      ],
      "text/plain": [
       "     rent_channel\n",
       "0             ios\n",
       "1             web\n",
       "2             web\n",
       "3             ios\n",
       "4             web\n",
       "...           ...\n",
       "3199          web\n",
       "3200          web\n",
       "3201          web\n",
       "3202          ios\n",
       "3203          ios\n",
       "\n",
       "[3204 rows x 1 columns]"
      ]
     },
     "execution_count": 6,
     "metadata": {},
     "output_type": "execute_result"
    }
   ],
   "source": [
    "channel = data[['rent_channel']]\n",
    "channel"
   ]
  },
  {
   "cell_type": "code",
   "execution_count": 16,
   "id": "feafeef7",
   "metadata": {},
   "outputs": [
    {
     "name": "stdout",
     "output_type": "stream",
     "text": [
      "                       created_at           order_id rent_channel  \\\n",
      "discount_amount                                                     \n",
      "0.00                9/9/2019 9:39  WO5889-4236-19187          web   \n",
      "225.00            12/4/2019 10:07       DM6035-23657          web   \n",
      "300.00            12/25/2019 9:38       DM4314-25669          web   \n",
      "325.00             3/8/2019 12:07       DM4080-12594          web   \n",
      "360.00             2/2/2019 21:09       DM4080-11773          ios   \n",
      "...                           ...                ...          ...   \n",
      "11160.00           9/4/2019 13:42       DM5207-17963         line   \n",
      "11520.00          6/27/2019 10:22       DM4645-15046          web   \n",
      "17500.35         12/18/2019 14:36       DM6003-25064      android   \n",
      "18000.00            6/6/2019 9:59       DM4540-14465         line   \n",
      "25000.00          7/13/2019 15:42        DM944-15720        phone   \n",
      "\n",
      "                 total_period  price_per_day  total_price  insurance_price  \\\n",
      "discount_amount                                                              \n",
      "0.00                     90.0      300000.00    300000.00            710.0   \n",
      "225.00                    3.0        1425.00      4500.00            480.0   \n",
      "300.00                    4.0        1490.00      5960.00              0.0   \n",
      "325.00                    5.0         650.00      3250.00            380.0   \n",
      "360.00                    6.0         600.00      3600.00            280.0   \n",
      "...                       ...            ...          ...              ...   \n",
      "11160.00                 31.0         833.33     25833.33            480.0   \n",
      "11520.00                 32.0        1200.00     38400.00            280.0   \n",
      "17500.35                  1.0       32500.65     50001.00            610.0   \n",
      "18000.00                 16.0        4500.00     72000.00            710.0   \n",
      "25000.00                 30.0        2833.33     85000.00              0.0   \n",
      "\n",
      "                 insurance_amount  vat_amount   commission  promotion_amount  \\\n",
      "discount_amount                                                                \n",
      "0.00                         6100    21000.00  180000.0000           12240.0   \n",
      "225.00                       1440      400.05    1068.7500               0.0   \n",
      "300.00                          0      396.20    1132.0000               0.0   \n",
      "325.00                       1900      337.75     731.2500             300.0   \n",
      "360.00                       1680      344.40     810.0000               0.0   \n",
      "...                           ...         ...          ...               ...   \n",
      "11160.00                    14880     1808.33    3668.3325               0.0   \n",
      "11520.00                     8960     2508.80    6720.0000               0.0   \n",
      "17500.35                      610     2317.75    8125.1625               0.0   \n",
      "18000.00                    11360     4575.20   13500.0000               0.0   \n",
      "25000.00                        0     5950.00   12000.0000               0.0   \n",
      "\n",
      "                 redeem_amount  total_amount  hold_amount  tax_withholding  \\\n",
      "discount_amount                                                              \n",
      "0.00                     600.0     321000.00        50000           4250.0   \n",
      "225.00                     0.0       6115.05        10000              0.0   \n",
      "300.00                     0.0       5773.20         5000            283.0   \n",
      "325.00                     0.0       5162.75        10000              0.0   \n",
      "360.00                     0.0       5264.40        10000              0.0   \n",
      "...                        ...           ...          ...              ...   \n",
      "11160.00                   0.0      27641.66            0              0.0   \n",
      "11520.00                   0.0      38348.80            0              0.0   \n",
      "17500.35                   0.0      35428.40        20000              0.0   \n",
      "18000.00                   0.0      66667.20            0           3268.0   \n",
      "25000.00                   0.0      90950.00            0              0.0   \n",
      "\n",
      "                   status        confirm_at  \n",
      "discount_amount                              \n",
      "0.00              success     9/9/2019 9:47  \n",
      "225.00           complete           33:39.2  \n",
      "300.00           complete           03:25.2  \n",
      "325.00           complete    3/8/2019 12:07  \n",
      "360.00           complete    2/2/2019 21:09  \n",
      "...                   ...               ...  \n",
      "11160.00         complete   10/14/2019 9:58  \n",
      "11520.00         complete   6/27/2019 10:22  \n",
      "17500.35           cancel  12/18/2019 14:38  \n",
      "18000.00         complete     6/6/2019 9:59  \n",
      "25000.00          success   7/13/2019 15:42  \n",
      "\n",
      "[79 rows x 17 columns]\n"
     ]
    },
    {
     "name": "stderr",
     "output_type": "stream",
     "text": [
      "C:\\Users\\PREDATOR\\AppData\\Local\\Temp/ipykernel_13412/2453706137.py:1: FutureWarning: Dropping invalid columns in DataFrameGroupBy.max is deprecated. In a future version, a TypeError will be raised. Before calling .max, select only columns which should be valid for the function.\n",
      "  print(data.groupby('discount_amount').max())\n"
     ]
    }
   ],
   "source": [
    "print(data.groupby('discount_amount').max())"
   ]
  },
  {
   "cell_type": "code",
   "execution_count": 8,
   "id": "b30671d5",
   "metadata": {},
   "outputs": [
    {
     "data": {
      "image/png": "[encoded data removed]",
      "text/plain": [
       "<Figure size 432x288 with 1 Axes>"
      ]
     },
     "metadata": {
      "needs_background": "light"
     },
     "output_type": "display_data"
    }
   ],
   "source": [
    "data.plot(kind = 'scatter', x = 'hold_amount', y = 'tax_withholding')\n",
    "plt.show()"
   ]
  },
  {
   "cell_type": "code",
   "execution_count": null,
   "id": "c3baf5ee",
   "metadata": {},
   "outputs": [],
   "source": []
  },
  {
   "cell_type": "code",
   "execution_count": null,
   "id": "f3edf267",
   "metadata": {},
   "outputs": [],
   "source": []
  },
  {
   "cell_type": "code",
   "execution_count": null,
   "id": "cf109972",
   "metadata": {},
   "outputs": [],
   "source": []
  }
 ],
 "metadata": {
  "kernelspec": {
   "display_name": "Python 3 (ipykernel)",
   "language": "python",
   "name": "python3"
  },
  "language_info": {
   "codemirror_mode": {
    "name": "ipython",
    "version": 3
   },
   "file_extension": ".py",
   "mimetype": "text/x-python",
   "name": "python",
   "nbconvert_exporter": "python",
   "pygments_lexer": "ipython3",
   "version": "3.9.7"
  }
 },
 "nbformat": 4,
 "nbformat_minor": 5
}
